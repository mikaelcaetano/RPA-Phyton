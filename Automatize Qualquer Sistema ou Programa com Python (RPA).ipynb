{
 "cells": [
  {
   "cell_type": "markdown",
   "id": "dfccb72a-da56-4a86-b2ce-519e1ac9f66b",
   "metadata": {},
   "source": [
    "Desafio:\n",
    "*automatizar o backup de arquivos no sistema \n",
    "*fazer o upload de um arquivo no google drive de forma rapida e atomatizada"
   ]
  },
  {
   "cell_type": "code",
   "execution_count": null,
   "id": "9f7438a3-4722-4c85-a39c-afa6f57e1372",
   "metadata": {},
   "outputs": [],
   "source": [
    "import pyautogui\n",
    "import time\n",
    "\n",
    "pyautogui.alert(\"o código vai começar. Não use nada do seu computador enquanto o código esta rodando\")\n",
    "pyautogui.PAUSE = 0.5\n",
    "\n",
    "# abrir o googledrive no meucomputador\n",
    "pyautogui.press('winleft')\n",
    "pyautogui.write('Chrome')\n",
    "pyautogui.press('Enter')\n",
    "time.sleep(1)\n",
    "pyautogui.write(\"https://drive.google.com/drive/my-drive\")\n",
    "pyautogui.press('Enter')\n",
    "\n",
    "# entrar na minha area de trabalho\n",
    "pyautogui.hotkey('winleft', 'd')\n",
    "\n",
    "#cliquei no arquivo que quero fazer o backup e arrastei ele\n",
    "pyautogui.moveTo(3704, 98)\n",
    "pyautogui.mousedown()\n",
    "pyautogui.moveTo(2318, 1413)\n",
    "\n",
    "#enquanto eu to arrastando eu vou mudar para o googledrive\n",
    "pyautogui.hotkey('alt', 'tab')\n",
    "time.sleep(1)\n",
    "\n",
    "#larguei o arquivo no googledrive\n",
    "pyautogui.mouseUp()\n",
    "\n",
    "#esperar 5 segundos\n",
    "time.sleep(5)\n",
    "\n",
    "pyautogui.alert(\"o código acabou de rodar, pode usar seu computador novamente\")\n",
    "\n",
    "#pyatogui.position() deve ser usado para achar a posição do mouse na tela do pc"
   ]
  }
 ],
 "metadata": {
  "kernelspec": {
   "display_name": "Python 3 (ipykernel)",
   "language": "python",
   "name": "python3"
  },
  "language_info": {
   "codemirror_mode": {
    "name": "ipython",
    "version": 3
   },
   "file_extension": ".py",
   "mimetype": "text/x-python",
   "name": "python",
   "nbconvert_exporter": "python",
   "pygments_lexer": "ipython3",
   "version": "3.9.7"
  },
  "toc-autonumbering": false,
  "toc-showmarkdowntxt": true,
  "toc-showtags": true
 },
 "nbformat": 4,
 "nbformat_minor": 5
}
