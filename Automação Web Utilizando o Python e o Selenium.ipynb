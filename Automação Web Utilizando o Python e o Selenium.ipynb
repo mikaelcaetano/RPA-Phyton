{
 "cells": [
  {
   "cell_type": "markdown",
   "id": "3d611caf-0307-451a-8c01-8971d5930fa3",
   "metadata": {},
   "source": [
    "Preencher formulário um formulário na Internet"
   ]
  },
  {
   "cell_type": "code",
   "execution_count": 1,
   "id": "71189065-4f15-413f-a4af-50c45475a5e3",
   "metadata": {},
   "outputs": [],
   "source": [
    "from selenium import webdriver\n",
    "from webdriver_manager.chrome import ChromeDriverManager\n",
    "from selenium.webdriver.chrome.service import Service\n",
    "\n",
    "service = Service(ChromeDriverManager().install())\n",
    "\n",
    "navegador = webdriver.Chrome(service=service)"
   ]
  },
  {
   "cell_type": "code",
   "execution_count": 3,
   "id": "18a402c8-7d6c-4d41-8bfc-9394632e7606",
   "metadata": {},
   "outputs": [],
   "source": [
    "navegador.get(\"https://pages.hashtagtreinamentos.com/inscricao-minicurso-python-automacao-org?origemurl=hashtag_yt_org_minipython_8AMNaVt0z_M\")\n",
    "\n",
    "#ao copia xparth do site e recomendado usar '' simples\n",
    "\n",
    "navegador.find_element('xpath', '//*[@id=\"section-10356508\"]/section/div[2]/div/div[2]/form/div[1]/div/div[1]/div/input').send_keys(\"xxx xxx\")\n",
    "\n",
    "navegador.find_element('xpath','//*[@id=\"section-10356508\"]/section/div[2]/div/div[2]/form/div[1]/div/div[2]/div/input').send_keys(\"xxx_xxx@xxx.xxx.xx\")"
   ]
  },
  {
   "cell_type": "code",
   "execution_count": null,
   "id": "47939926-afb1-4dc9-b4e8-4f2e0045781a",
   "metadata": {},
   "outputs": [],
   "source": []
  },
  {
   "cell_type": "code",
   "execution_count": null,
   "id": "5b5a1b0c-29d6-4930-b090-556afad777ee",
   "metadata": {},
   "outputs": [],
   "source": []
  }
 ],
 "metadata": {
  "kernelspec": {
   "display_name": "Python 3 (ipykernel)",
   "language": "python",
   "name": "python3"
  },
  "language_info": {
   "codemirror_mode": {
    "name": "ipython",
    "version": 3
   },
   "file_extension": ".py",
   "mimetype": "text/x-python",
   "name": "python",
   "nbconvert_exporter": "python",
   "pygments_lexer": "ipython3",
   "version": "3.9.7"
  },
  "toc-autonumbering": false,
  "toc-showmarkdowntxt": true
 },
 "nbformat": 4,
 "nbformat_minor": 5
}
